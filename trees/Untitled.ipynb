{
 "cells": [
  {
   "cell_type": "code",
   "execution_count": 183,
   "metadata": {},
   "outputs": [],
   "source": [
    "import sys\n",
    "class Node():\n",
    "    def __init__(self, value):\n",
    "        self.value = value\n",
    "        self.right = None\n",
    "        self.left = None\n",
    "        \n",
    "    def __str__(self):\n",
    "        return str(self.value);\n",
    "\n",
    "class BinaryTree():\n",
    "    def __init__(self):\n",
    "        self.start = None;\n",
    "        \n",
    "    def findPosition(self, value, node):\n",
    "        if(node.value < value):\n",
    "            if(node.right == None):\n",
    "                return node\n",
    "            else:\n",
    "                return self.findPosition(value, node.right)\n",
    "        else:\n",
    "            if(node.left == None):\n",
    "                return node\n",
    "            else:\n",
    "                return self.findPosition(value, node.left)\n",
    "    \n",
    "    def addNode(self, value):\n",
    "        n = Node(value)\n",
    "        if(self.start == None):\n",
    "            self.start = n\n",
    "        else:\n",
    "            oldNode = self.findPosition(value, self.start);\n",
    "            if(oldNode.value < value):\n",
    "                oldNode.right = n;\n",
    "            else:\n",
    "                oldNode.left = n\n",
    "                \n",
    "    def findNode(self, value, node):\n",
    "        if(node.value == value):\n",
    "            return node\n",
    "        if(node.value < value):\n",
    "            if(node.right == None):\n",
    "                return None\n",
    "            else:\n",
    "                return self.findPosition(value, node.right)\n",
    "        else:\n",
    "            if(node.left == None):\n",
    "                return None\n",
    "            else:\n",
    "                return self.findPosition(value, node.left)\n",
    "            \n",
    "    def findPathFromRoot(self, value, node, arr):\n",
    "        arr.append(node.value)\n",
    "        if(node.value == value):\n",
    "            return arr\n",
    "        if(node.value < value):\n",
    "            if(node.right == None):\n",
    "                return None\n",
    "            else:\n",
    "                return self.findPathFromRoot(value, node.right, arr)\n",
    "        else:\n",
    "            if(node.left == None):\n",
    "                return None\n",
    "            else:\n",
    "                return self.findPathFromRoot(value, node.left, arr)\n",
    "                \n",
    "    def findPathNaive(self, value1, value2):\n",
    "        path1 = self.findPathFromRoot(value1, self.start, [])\n",
    "        path2 = self.findPathFromRoot(value2, self.start, [])\n",
    "        i=0\n",
    "        while(i<len(path1) and i<len(path2) and path1[i] == path2[i]):\n",
    "            i+=1\n",
    "        if i!=0:\n",
    "            path1 = path1[(i):]\n",
    "            path2 = path2[(i-1):]\n",
    "        path1.reverse()\n",
    "        return path1 + path2\n",
    "                \n",
    "    def printInorder(self, node):\n",
    "        if(node.left != None):\n",
    "            self.printInorder(node.left)\n",
    "        print(node.value)\n",
    "        if(node.right != None):\n",
    "            self.printInorder(node.right)\n",
    "            \n",
    "sys.setrecursionlimit(1500)"
   ]
  },
  {
   "cell_type": "code",
   "execution_count": 148,
   "metadata": {},
   "outputs": [],
   "source": [
    "b = BinaryTree()"
   ]
  },
  {
   "cell_type": "code",
   "execution_count": 149,
   "metadata": {},
   "outputs": [],
   "source": [
    "b.addNode(4);\n",
    "b.addNode(7);\n",
    "b.addNode(8);\n",
    "b.addNode(6);\n",
    "b.addNode(3);\n",
    "b.addNode(1);\n",
    "b.addNode(10);\n",
    "b.addNode(5);"
   ]
  },
  {
   "cell_type": "code",
   "execution_count": 150,
   "metadata": {},
   "outputs": [
    {
     "name": "stdout",
     "output_type": "stream",
     "text": [
      "1\n",
      "3\n",
      "4\n",
      "5\n",
      "6\n",
      "7\n",
      "8\n",
      "10\n"
     ]
    }
   ],
   "source": [
    "b.printInorder(b.start);"
   ]
  },
  {
   "cell_type": "code",
   "execution_count": 180,
   "metadata": {},
   "outputs": [
    {
     "name": "stdout",
     "output_type": "stream",
     "text": [
      "1\n",
      "10\n",
      "17\n",
      "46\n",
      "49\n",
      "51\n",
      "58\n",
      "72\n",
      "92\n",
      "97\n"
     ]
    }
   ],
   "source": [
    "b.printInorder(b.start)"
   ]
  },
  {
   "cell_type": "code",
   "execution_count": 182,
   "metadata": {},
   "outputs": [
    {
     "name": "stdout",
     "output_type": "stream",
     "text": [
      "10\n",
      "17 58 49 51 92 72 46 10 97 1\n",
      "92 97\n",
      "97\n"
     ]
    }
   ],
   "source": [
    "# def main():\n",
    "inp = input().split()\n",
    "t = int(inp[0])\n",
    "inp = input().split()\n",
    "k=0\n",
    "b = BinaryTree()\n",
    "for i in range(t):\n",
    "    b.addNode(int(inp[k]))\n",
    "    k+=1\n",
    "inp = input().split()\n",
    "k=0\n",
    "x = int(inp[k])\n",
    "y = int(inp[k+1])\n",
    "print(max(b.findPathNaive(x, y)))"
   ]
  },
  {
   "cell_type": "code",
   "execution_count": 169,
   "metadata": {},
   "outputs": [
    {
     "name": "stdout",
     "output_type": "stream",
     "text": [
      "5 4 7 8 6 3 3 7\n",
      "7\n",
      "[3]\n",
      "[4, 7]\n",
      "[3, 4, 7]\n"
     ]
    }
   ],
   "source": [
    "main()"
   ]
  },
  {
   "cell_type": "code",
   "execution_count": 134,
   "metadata": {},
   "outputs": [
    {
     "data": {
      "text/plain": [
       "[3, 2, 1]"
      ]
     },
     "execution_count": 134,
     "metadata": {},
     "output_type": "execute_result"
    }
   ],
   "source": [
    "5 4 7 8 6 3 3 7"
   ]
  },
  {
   "cell_type": "code",
   "execution_count": 156,
   "metadata": {},
   "outputs": [
    {
     "ename": "NameError",
     "evalue": "name 'raw_input' is not defined",
     "output_type": "error",
     "traceback": [
      "\u001b[0;31m---------------------------------------------------------------------------\u001b[0m",
      "\u001b[0;31mNameError\u001b[0m                                 Traceback (most recent call last)",
      "\u001b[0;32m<ipython-input-156-fe8f7aefb120>\u001b[0m in \u001b[0;36m<module>\u001b[0;34m()\u001b[0m\n\u001b[0;32m----> 1\u001b[0;31m \u001b[0mx\u001b[0m \u001b[0;34m=\u001b[0m \u001b[0mraw_input\u001b[0m\u001b[0;34m(\u001b[0m\u001b[0;34m)\u001b[0m\u001b[0;34m\u001b[0m\u001b[0;34m\u001b[0m\u001b[0m\n\u001b[0m\u001b[1;32m      2\u001b[0m \u001b[0my\u001b[0m \u001b[0;34m=\u001b[0m \u001b[0mraw_input\u001b[0m\u001b[0;34m(\u001b[0m\u001b[0;34m)\u001b[0m\u001b[0;34m\u001b[0m\u001b[0;34m\u001b[0m\u001b[0m\n",
      "\u001b[0;31mNameError\u001b[0m: name 'raw_input' is not defined"
     ]
    }
   ],
   "source": []
  },
  {
   "cell_type": "code",
   "execution_count": null,
   "metadata": {},
   "outputs": [],
   "source": []
  }
 ],
 "metadata": {
  "kernelspec": {
   "display_name": "Python 3",
   "language": "python",
   "name": "python3"
  },
  "language_info": {
   "codemirror_mode": {
    "name": "ipython",
    "version": 3
   },
   "file_extension": ".py",
   "mimetype": "text/x-python",
   "name": "python",
   "nbconvert_exporter": "python",
   "pygments_lexer": "ipython3",
   "version": "3.6.7"
  }
 },
 "nbformat": 4,
 "nbformat_minor": 2
}
