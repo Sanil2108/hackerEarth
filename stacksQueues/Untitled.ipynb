{
 "cells": [
  {
   "cell_type": "code",
   "execution_count": 27,
   "metadata": {},
   "outputs": [],
   "source": [
    "class Stack(object):\n",
    "    def __init__(self):\n",
    "        self.arr = []\n",
    "    \n",
    "    def add(self, value):\n",
    "        self.arr.append(value)\n",
    "        \n",
    "    def pop(self):\n",
    "        if(len(self.arr) == 0):\n",
    "            return None\n",
    "        temp = self.arr[0]\n",
    "        if(len(self.arr) <=1):\n",
    "            self.arr = []\n",
    "        else:\n",
    "            self.arr = self.arr[1:]\n",
    "        return temp"
   ]
  },
  {
   "cell_type": "code",
   "execution_count": 28,
   "metadata": {},
   "outputs": [],
   "source": [
    "s = Stack();"
   ]
  },
  {
   "cell_type": "code",
   "execution_count": 29,
   "metadata": {},
   "outputs": [],
   "source": [
    "s.add(1)\n",
    "s.add(2)\n",
    "s.add(3)"
   ]
  },
  {
   "cell_type": "code",
   "execution_count": 30,
   "metadata": {},
   "outputs": [
    {
     "data": {
      "text/plain": [
       "[1, 2, 3]"
      ]
     },
     "execution_count": 30,
     "metadata": {},
     "output_type": "execute_result"
    }
   ],
   "source": [
    "s.arr"
   ]
  },
  {
   "cell_type": "code",
   "execution_count": 34,
   "metadata": {},
   "outputs": [],
   "source": [
    "s.pop()"
   ]
  },
  {
   "cell_type": "code",
   "execution_count": 56,
   "metadata": {},
   "outputs": [
    {
     "name": "stdout",
     "output_type": "stream",
     "text": [
      "5\n",
      "5 4 1 3 2\n",
      "-2 0 6 1 3 "
     ]
    }
   ],
   "source": [
    "import sys\n",
    "n = int(input())\n",
    "arr = input().split(' ')\n",
    "for i in range(n):\n",
    "    arr[i] = int(arr[i])\n",
    "for i in range(n):\n",
    "    x = -1\n",
    "    y = -1\n",
    "    if i != 0 and max(arr[0:i])>arr[i]:\n",
    "        for j in range(i-1, -1, -1):\n",
    "            if arr[j] > arr[i]:\n",
    "                x = j + 1\n",
    "                break\n",
    "    if i != n-1 and max(arr[i:n])>arr[i]:\n",
    "        for j in range(i+1, n, 1):\n",
    "            if arr[j] > arr[i]:\n",
    "                y = j + 1\n",
    "                break\n",
    "    sys.stdout.write(str(x+y)+' ')"
   ]
  },
  {
   "cell_type": "code",
   "execution_count": 46,
   "metadata": {},
   "outputs": [
    {
     "name": "stdout",
     "output_type": "stream",
     "text": [
      "a\n"
     ]
    }
   ],
   "source": [
    "a = input()"
   ]
  },
  {
   "cell_type": "code",
   "execution_count": null,
   "metadata": {},
   "outputs": [
    {
     "name": "stdout",
     "output_type": "stream",
     "text": [
      "E 1 1\n",
      "Current indexes\n",
      "[1, -1, -1, -1]\n",
      "[(1, 1)]\n",
      "E 2 1\n",
      "Current indexes\n",
      "[1, 2, -1, -1]\n",
      "[(1, 1), (2, 1)]\n"
     ]
    }
   ],
   "source": [
    "currentIndexes = [-1, -1, -1, -1]\n",
    "arr = []\n",
    "n = 5\n",
    "for i in range(n):\n",
    "    temp = input().split(' ')\n",
    "    if(temp[0] == 'E'):\n",
    "        temp[1] = int(temp[1])\n",
    "        temp[2] = int(temp[2])\n",
    "        newPos = None\n",
    "        if(currentIndexes[temp[1] - 1] == -1 or currentIndexes[temp[1] - 1] == len(arr)):\n",
    "            arr.append(\n",
    "                (temp[1], temp[2])\n",
    "            )\n",
    "            newPos = len(arr)\n",
    "        else:\n",
    "            arr.insert(currentIndexes[temp[1]], (temp[1], temp[2]))\n",
    "            newPos = temp[1] + 1\n",
    "        currentIndexes[temp[1] - 1] = newPos\n",
    "        print(\"Current indexes\")\n",
    "        print(currentIndexes)\n",
    "    else:\n",
    "        print(arr.pop())\n",
    "    print(arr)"
   ]
  },
  {
   "cell_type": "code",
   "execution_count": 64,
   "metadata": {},
   "outputs": [
    {
     "ename": "SyntaxError",
     "evalue": "invalid syntax (<ipython-input-64-55a90e1c56b8>, line 3)",
     "output_type": "error",
     "traceback": [
      "\u001b[0;36m  File \u001b[0;32m\"<ipython-input-64-55a90e1c56b8>\"\u001b[0;36m, line \u001b[0;32m3\u001b[0m\n\u001b[0;31m    E 1 1\u001b[0m\n\u001b[0m      ^\u001b[0m\n\u001b[0;31mSyntaxError\u001b[0m\u001b[0;31m:\u001b[0m invalid syntax\n"
     ]
    }
   ],
   "source": [
    " \n",
    "5\n",
    "E 1 1\n",
    "E 2 1\n",
    "E 1 2\n",
    "D\n",
    "D"
   ]
  },
  {
   "cell_type": "code",
   "execution_count": 65,
   "metadata": {},
   "outputs": [],
   "source": [
    "a = [1, 2, 3]"
   ]
  },
  {
   "cell_type": "code",
   "execution_count": 66,
   "metadata": {},
   "outputs": [],
   "source": [
    "a.insert(1, 4)"
   ]
  },
  {
   "cell_type": "code",
   "execution_count": 67,
   "metadata": {},
   "outputs": [
    {
     "data": {
      "text/plain": [
       "[1, 4, 2, 3]"
      ]
     },
     "execution_count": 67,
     "metadata": {},
     "output_type": "execute_result"
    }
   ],
   "source": [
    "a"
   ]
  },
  {
   "cell_type": "code",
   "execution_count": null,
   "metadata": {},
   "outputs": [],
   "source": []
  }
 ],
 "metadata": {
  "kernelspec": {
   "display_name": "Python 3",
   "language": "python",
   "name": "python3"
  },
  "language_info": {
   "codemirror_mode": {
    "name": "ipython",
    "version": 3
   },
   "file_extension": ".py",
   "mimetype": "text/x-python",
   "name": "python",
   "nbconvert_exporter": "python",
   "pygments_lexer": "ipython3",
   "version": "3.6.7"
  }
 },
 "nbformat": 4,
 "nbformat_minor": 2
}
