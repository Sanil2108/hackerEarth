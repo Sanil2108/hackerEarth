{
 "cells": [
  {
   "cell_type": "code",
   "execution_count": 10,
   "metadata": {},
   "outputs": [
    {
     "name": "stdout",
     "output_type": "stream",
     "text": [
      "5\n",
      "E 1 1\n",
      "E 2 1\n",
      "E 1 2\n",
      "D\n",
      "1 1\n",
      "D\n",
      "1 2\n"
     ]
    }
   ],
   "source": [
    "arr = [\n",
    "    [],\n",
    "    [],\n",
    "    [],\n",
    "    []\n",
    "]\n",
    "n = int(input())\n",
    "for i in range(n):\n",
    "    temp = input().split(' ')\n",
    "    if(temp[0] == 'E'):\n",
    "        temp[1] = int(temp[1])\n",
    "        temp[2] = int(temp[2])\n",
    "        arr[temp[1] - 1].append(\n",
    "            (temp[1], temp[2])\n",
    "        )\n",
    "    else:\n",
    "        for i in range(len(arr)):\n",
    "            if len(arr[i])>0:\n",
    "                print(str(arr[i][0][0]) + ' ' + str(arr[i][0][1]))\n",
    "                arr[i] = arr[i][1:len(arr[i])]\n",
    "                break;\n",
    "#     print(arr)"
   ]
  },
  {
   "cell_type": "code",
   "execution_count": 4,
   "metadata": {},
   "outputs": [],
   "source": [
    "a = [1, 2, 3]"
   ]
  },
  {
   "cell_type": "code",
   "execution_count": 5,
   "metadata": {},
   "outputs": [
    {
     "data": {
      "text/plain": [
       "3"
      ]
     },
     "execution_count": 5,
     "metadata": {},
     "output_type": "execute_result"
    }
   ],
   "source": [
    "a.pop()"
   ]
  },
  {
   "cell_type": "code",
   "execution_count": null,
   "metadata": {},
   "outputs": [],
   "source": [
    "arr = []\n",
    "n = int(input())\n",
    "for i in range(n):\n",
    "    temp = input().split(' ')\n",
    "    if(temp[0] == 'E'):\n",
    "        temp[1] = int(temp[1])\n",
    "        temp[2] = int(temp[2])\n",
    "        indexOfSchool = -1\n",
    "        for i in range(len(arr)):\n",
    "            if arr[i][0][0] == temp[1]:\n",
    "                indexOfSchool = i\n",
    "        if(indexOfSchool == -1):\n",
    "            arr.append(\n",
    "                [\n",
    "                    (temp[1], temp[2])\n",
    "                ]\n",
    "            )\n",
    "        else:\n",
    "            arr[indexOfSchool].append(\n",
    "                (temp[1], temp[2])\n",
    "            )\n",
    "    else:\n",
    "        for i in range(len(arr)):\n",
    "            if len(arr[i])>0:\n",
    "                print(str(arr[i][0][0]) + ' ' + str(arr[i][0][1]))\n",
    "                arr[i] = arr[i][1:len(arr[i])]\n",
    "                break;\n",
    "#     print(arr)"
   ]
  }
 ],
 "metadata": {
  "kernelspec": {
   "display_name": "Python 3",
   "language": "python",
   "name": "python3"
  },
  "language_info": {
   "codemirror_mode": {
    "name": "ipython",
    "version": 3
   },
   "file_extension": ".py",
   "mimetype": "text/x-python",
   "name": "python",
   "nbconvert_exporter": "python",
   "pygments_lexer": "ipython3",
   "version": "3.6.7"
  }
 },
 "nbformat": 4,
 "nbformat_minor": 2
}
