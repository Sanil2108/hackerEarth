{
 "cells": [
  {
   "cell_type": "code",
   "execution_count": 27,
   "metadata": {},
   "outputs": [],
   "source": [
    "class Stack(object):\n",
    "    def __init__(self):\n",
    "        self.arr = []\n",
    "    \n",
    "    def add(self, value):\n",
    "        self.arr.append(value)\n",
    "        \n",
    "    def pop(self):\n",
    "        if(len(self.arr) == 0):\n",
    "            return None\n",
    "        temp = self.arr[0]\n",
    "        if(len(self.arr) <=1):\n",
    "            self.arr = []\n",
    "        else:\n",
    "            self.arr = self.arr[1:]\n",
    "        return temp"
   ]
  },
  {
   "cell_type": "code",
   "execution_count": 28,
   "metadata": {},
   "outputs": [],
   "source": [
    "s = Stack();"
   ]
  },
  {
   "cell_type": "code",
   "execution_count": 29,
   "metadata": {},
   "outputs": [],
   "source": [
    "s.add(1)\n",
    "s.add(2)\n",
    "s.add(3)"
   ]
  },
  {
   "cell_type": "code",
   "execution_count": 30,
   "metadata": {},
   "outputs": [
    {
     "data": {
      "text/plain": [
       "[1, 2, 3]"
      ]
     },
     "execution_count": 30,
     "metadata": {},
     "output_type": "execute_result"
    }
   ],
   "source": [
    "s.arr"
   ]
  },
  {
   "cell_type": "code",
   "execution_count": 34,
   "metadata": {},
   "outputs": [],
   "source": [
    "s.pop()"
   ]
  },
  {
   "cell_type": "code",
   "execution_count": 44,
   "metadata": {},
   "outputs": [
    {
     "name": "stdout",
     "output_type": "stream",
     "text": [
      "-2 0 6 1 3 "
     ]
    }
   ],
   "source": [
    "import sys\n",
    "n = int(input)\n",
    "arr = input().split(' ')\n",
    "for i in range(n):\n",
    "    x = -1\n",
    "    y = -1\n",
    "#     arr[i] = \n",
    "    if i != 0:\n",
    "        for j in range(i-1, -1, -1):\n",
    "            if arr[j] > arr[i]:\n",
    "                x = j + 1\n",
    "                break\n",
    "    if i != n-1:\n",
    "        for j in range(i+1, n, 1):\n",
    "            if arr[j] > arr[i]:\n",
    "                y = j + 1\n",
    "                break\n",
    "    sys.stdout.write(str(x+y)+' ')"
   ]
  },
  {
   "cell_type": "code",
   "execution_count": 46,
   "metadata": {},
   "outputs": [
    {
     "name": "stdout",
     "output_type": "stream",
     "text": [
      "a\n"
     ]
    }
   ],
   "source": [
    "a = input()"
   ]
  },
  {
   "cell_type": "code",
   "execution_count": null,
   "metadata": {},
   "outputs": [],
   "source": []
  }
 ],
 "metadata": {
  "kernelspec": {
   "display_name": "Python 3",
   "language": "python",
   "name": "python3"
  },
  "language_info": {
   "codemirror_mode": {
    "name": "ipython",
    "version": 3
   },
   "file_extension": ".py",
   "mimetype": "text/x-python",
   "name": "python",
   "nbconvert_exporter": "python",
   "pygments_lexer": "ipython3",
   "version": "3.6.7"
  }
 },
 "nbformat": 4,
 "nbformat_minor": 2
}
